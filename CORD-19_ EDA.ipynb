{
 "cells": [
  {
   "cell_type": "code",
   "execution_count": 2,
   "metadata": {
    "_cell_guid": "b1076dfc-b9ad-4769-8c92-a6c4dae69d19",
    "_uuid": "8f2839f25d086af736a60e9eeb907d3b93b6e0e5"
   },
   "outputs": [],
   "source": [
    "import os\n",
    "import json\n",
    "from pprint import pprint\n",
    "from copy import deepcopy\n",
    "\n",
    "import numpy as np\n",
    "import pandas as pd\n",
    "from tqdm.notebook import tqdm"
   ]
  },
  {
   "cell_type": "markdown",
   "metadata": {},
   "source": [
    "#### Extraction helper functions for the data"
   ]
  },
  {
   "cell_type": "code",
   "execution_count": 3,
   "metadata": {
    "_kg_hide-input": true
   },
   "outputs": [],
   "source": [
    "def format_name(author):\n",
    "    middle_name = \" \".join(author['middle'])\n",
    "    \n",
    "    if author['middle']:\n",
    "        return \" \".join([author['first'], middle_name, author['last']])\n",
    "    else:\n",
    "        return \" \".join([author['first'], author['last']])\n",
    "\n",
    "\n",
    "def format_affiliation(affiliation):\n",
    "    text = []\n",
    "    location = affiliation.get('location')\n",
    "    if location:\n",
    "        text.extend(list(affiliation['location'].values()))\n",
    "    \n",
    "    institution = affiliation.get('institution')\n",
    "    if institution:\n",
    "        text = [institution] + text\n",
    "    return \", \".join(text)\n",
    "\n",
    "def format_authors(authors, with_affiliation=False):\n",
    "    name_ls = []\n",
    "    \n",
    "    for author in authors:\n",
    "        name = format_name(author)\n",
    "        if with_affiliation:\n",
    "            affiliation = format_affiliation(author['affiliation'])\n",
    "            if affiliation:\n",
    "                name_ls.append(f\"{name} ({affiliation})\")\n",
    "            else:\n",
    "                name_ls.append(name)\n",
    "        else:\n",
    "            name_ls.append(name)\n",
    "    \n",
    "    return \", \".join(name_ls)\n",
    "\n",
    "def format_body(body_text):\n",
    "    texts = [(di['section'], di['text']) for di in body_text]\n",
    "    texts_di = {di['section']: \"\" for di in body_text}\n",
    "    \n",
    "    for section, text in texts:\n",
    "        texts_di[section] += text\n",
    "\n",
    "    body = \"\"\n",
    "\n",
    "    for section, text in texts_di.items():\n",
    "        body += section\n",
    "        body += \"\\n\\n\"\n",
    "        body += text\n",
    "        body += \"\\n\\n\"\n",
    "    \n",
    "    return body\n",
    "\n",
    "def format_bib(bibs):\n",
    "    if type(bibs) == dict:\n",
    "        bibs = list(bibs.values())\n",
    "    bibs = deepcopy(bibs)\n",
    "    formatted = []\n",
    "    \n",
    "    for bib in bibs:\n",
    "        bib['authors'] = format_authors(\n",
    "            bib['authors'], \n",
    "            with_affiliation=False\n",
    "        )\n",
    "        formatted_ls = [str(bib[k]) for k in ['title', 'authors', 'venue', 'year']]\n",
    "        formatted.append(\", \".join(formatted_ls))\n",
    "\n",
    "    return \"; \".join(formatted)"
   ]
  },
  {
   "cell_type": "markdown",
   "metadata": {},
   "source": [
    "Unhide the cell below to find the definition of the following functions:\n",
    "* `load_files(dirname)`\n",
    "* `generate_clean_df(all_files)`"
   ]
  },
  {
   "cell_type": "code",
   "execution_count": 4,
   "metadata": {
    "_kg_hide-input": true
   },
   "outputs": [],
   "source": [
    "def load_files(dirname):\n",
    "    filenames = os.listdir(dirname)\n",
    "    raw_files = []\n",
    "\n",
    "    for filename in tqdm(filenames):\n",
    "        filename = dirname + filename\n",
    "        file = json.load(open(filename, 'rb'))\n",
    "        raw_files.append(file)\n",
    "    \n",
    "    return raw_files\n",
    "\n",
    "def generate_clean_df(all_files):\n",
    "    cleaned_files = []\n",
    "    \n",
    "    for file in tqdm(all_files):\n",
    "        features = [\n",
    "            file['paper_id'],\n",
    "            file['metadata']['title'],\n",
    "            format_authors(file['metadata']['authors']),\n",
    "            format_authors(file['metadata']['authors'], \n",
    "                           with_affiliation=True),\n",
    "            format_body(file['abstract']),\n",
    "            format_body(file['body_text']),\n",
    "            format_bib(file['bib_entries']),\n",
    "            file['metadata']['authors'],\n",
    "            file['bib_entries']\n",
    "        ]\n",
    "\n",
    "        cleaned_files.append(features)\n",
    "\n",
    "    col_names = ['paper_id', 'title', 'authors',\n",
    "                 'affiliations', 'abstract', 'text', \n",
    "                 'bibliography','raw_authors','raw_bibliography']\n",
    "\n",
    "    clean_df = pd.DataFrame(cleaned_files, columns=col_names)\n",
    "    clean_df.head()\n",
    "    \n",
    "    return clean_df"
   ]
  },
  {
   "cell_type": "markdown",
   "metadata": {},
   "source": [
    "Let's first take a quick glance at the `biorxiv` subset of the data. We will also use this opportunity to load all of the json files into a list of **nested** dictionaries (each `dict` is an article)."
   ]
  },
  {
   "cell_type": "code",
   "execution_count": 5,
   "metadata": {},
   "outputs": [
    {
     "name": "stdout",
     "output_type": "stream",
     "text": [
      "Number of articles retrieved from biorxiv: 803\n"
     ]
    }
   ],
   "source": [
    "biorxiv_dir = 'CORD-19-research-challenge/2020-03-13/biorxiv_medrxiv/biorxiv_medrxiv/'\n",
    "filenames = os.listdir(biorxiv_dir)\n",
    "print(\"Number of articles retrieved from biorxiv:\", len(filenames))"
   ]
  },
  {
   "cell_type": "code",
   "execution_count": 6,
   "metadata": {},
   "outputs": [],
   "source": [
    "all_files = []\n",
    "\n",
    "for filename in filenames:\n",
    "    filename = biorxiv_dir + filename\n",
    "    file = json.load(open(filename, 'rb'))\n",
    "    all_files.append(file)"
   ]
  },
  {
   "cell_type": "code",
   "execution_count": 7,
   "metadata": {},
   "outputs": [
    {
     "name": "stdout",
     "output_type": "stream",
     "text": [
      "Dictionary keys: dict_keys(['paper_id', 'metadata', 'abstract', 'body_text', 'bib_entries', 'ref_entries', 'back_matter'])\n"
     ]
    }
   ],
   "source": [
    "file = all_files[0]\n",
    "print(\"Dictionary keys:\", file.keys())"
   ]
  },
  {
   "cell_type": "markdown",
   "metadata": {},
   "source": [
    "#### Biorxiv: Abstract\n",
    "The abstract dictionary is fairly simple:"
   ]
  },
  {
   "cell_type": "code",
   "execution_count": 35,
   "metadata": {},
   "outputs": [
    {
     "name": "stdout",
     "output_type": "stream",
     "text": [
      "[]\n"
     ]
    }
   ],
   "source": [
    "pprint(file['abstract'])"
   ]
  },
  {
   "cell_type": "markdown",
   "metadata": {},
   "source": [
    "#### Biorxiv: body text\n",
    "Let's first probe what the `body_text` dictionary looks like:"
   ]
  },
  {
   "cell_type": "code",
   "execution_count": 9,
   "metadata": {},
   "outputs": [
    {
     "name": "stdout",
     "output_type": "stream",
     "text": [
      "body_text type: <class 'list'>\n",
      "body_text length: 15\n",
      "body_text keys: dict_keys(['text', 'cite_spans', 'ref_spans', 'section'])\n"
     ]
    }
   ],
   "source": [
    "print(\"body_text type:\", type(file['body_text']))\n",
    "print(\"body_text length:\", len(file['body_text']))\n",
    "print(\"body_text keys:\", file['body_text'][0].keys())"
   ]
  },
  {
   "cell_type": "markdown",
   "metadata": {},
   "source": [
    "We take a look at the first part of the `body_text` content. As you will notice, the body text is separated into a list of small subsections, each containing a `section` and a `text` key. Since multiple subsection can have the same section, we need to first group each subsection before concatenating everything."
   ]
  },
  {
   "cell_type": "code",
   "execution_count": 10,
   "metadata": {},
   "outputs": [
    {
     "name": "stdout",
     "output_type": "stream",
     "text": [
      "body_text content:\n",
      "[{'cite_spans': [],\n",
      "  'ref_spans': [],\n",
      "  'section': 'Objective',\n",
      "  'text': 'In this study, we used the imported cases and air travel data from '\n",
      "          'Iran to other Middle East countries to estimate the number of '\n",
      "          'COVID-19 cases in Iran. Then we compared our estimates with the '\n",
      "          'number of reported cases in Iran to evaluate the extent of '\n",
      "          'under-ascertainment.'},\n",
      " {'cite_spans': [],\n",
      "  'ref_spans': [],\n",
      "  'section': 'Data',\n",
      "  'text': 'We obtained transport capability of international airlines from 30 '\n",
      "          'major airports in Iran from 1 February to 24 February 2020 '\n",
      "          '(WorldData, 2020), from the Variflight platform '\n",
      "          '(https://data.variflight.com/). We collected the number of exported '\n",
      "          'cases from Iran to other countries in the Middle East (World Health '\n",
      "          'Organization, 2020).'}]\n"
     ]
    }
   ],
   "source": [
    "print(\"body_text content:\")\n",
    "pprint(file['body_text'][:2], depth=3)"
   ]
  },
  {
   "cell_type": "markdown",
   "metadata": {},
   "source": [
    "Let's see what the grouped section titles are for the example above:"
   ]
  },
  {
   "cell_type": "code",
   "execution_count": 11,
   "metadata": {},
   "outputs": [
    {
     "name": "stdout",
     "output_type": "stream",
     "text": [
      "['Objective',\n",
      " 'Data',\n",
      " 'Methods',\n",
      " 'Results and discussion',\n",
      " 'Ethics approval and consent to participate',\n",
      " 'Availability of data and materials',\n",
      " 'Consent for publication',\n",
      " 'Funding']\n"
     ]
    }
   ],
   "source": [
    "texts = [(di['section'], di['text']) for di in file['body_text']]\n",
    "texts_di = {di['section']: \"\" for di in file['body_text']}\n",
    "for section, text in texts:\n",
    "    texts_di[section] += text\n",
    "\n",
    "pprint(list(texts_di.keys()))"
   ]
  },
  {
   "cell_type": "markdown",
   "metadata": {},
   "source": [
    "The following example shows what the final result looks like, after we format each section title with its content:"
   ]
  },
  {
   "cell_type": "code",
   "execution_count": 12,
   "metadata": {},
   "outputs": [
    {
     "name": "stdout",
     "output_type": "stream",
     "text": [
      "Objective\n",
      "\n",
      "In this study, we used the imported cases and air travel data from Iran to other Middle East countries to estimate the number of COVID-19 cases in Iran. Then we compared our estimates with the number of reported cases in Iran to evaluate the extent of under-ascertainment.\n",
      "\n",
      "Data\n",
      "\n",
      "We obtained transport capability of international airlines from 30 major airports in Iran from 1 February to 24 February 2020 (WorldData, 2020), from the Variflight platform (https://data.variflight.com/). We collected the number of exported cases from Iran to other countries in the Middle East (World Health Organization, 2020).Population size of Iran (81,800,269 in 2018) was obtained from the World Bank (https://data.worldbank.org/). Table 1 shows the number of daily population flow and total reported cases of countries used in our calculation.\n",
      "\n",
      "Methods\n",
      "\n",
      "Following Imai et al.'s (2020), we assumed number of cases (n) exported from Iran follows a Binomial distribution (Bin) with size N and probability p. Here, N represents total number of cases infected in Iran, and p is the probability that one case . CC-BY-NC-ND 4.0 International license It is made available under a author/funder, who has granted medRxiv a license to display the preprint in perpetuity.is the (which was not peer-reviewed) The copyright holder for this preprint . https://doi.org/10.1101/2020.03.02.20030320 doi: medRxiv preprint is detected overseas. We approximated p by the ratio of daily outbound passengers of Iran (D) over total size of population (M) that those airports serve and multiplying the mean duration (t) from exposure to detection. Thus, p = Dt / M. We set t at 10 days according to (Imai et al., 2020) . We assumed that the catchment population is the total population of Iran. We calculated the maximum likelihood estimates of the total number of COVID-19 cases in Iran (λ) by fitting model to the number of confirmed cases with Binomial-distributed likelihood framework. As shown in Eqn (1),represents the total log-likelihood and k is the total number of countries we selected.The 95% confidence intervals (CI) are calculated by using the profile likelihood estimation approach determined by a Chi-square quantile.To explore more alternative scenarios, we also considered a smaller catchment population (60,000,000) and a shorter detection window (8 days). We considered a baseline scenario with 100% attendance rate for each aircraft as well as other alternative scenarios. In addition, we tested the situation that 90% and 70%attendance rate for each aircraft, keeping other situation as baseline scenario.\n",
      "\n",
      "Results and discussion\n",
      "\n",
      "We estimated the total number of cases in Iran was 16533 (95% CI: 5925, 35538) by 25 February 2020. \n",
      "\n",
      "Ethics approval and consent to participate\n",
      "\n",
      "The ethical approval or individual consent was not applicable.\n",
      "\n",
      "Availability of data and materials\n",
      "\n",
      "All data and materials used in this work were publicly available.\n",
      "\n",
      "Consent for publication\n",
      "\n",
      "Not applicable.\n",
      "\n",
      "Funding\n",
      "\n",
      ". CC-BY-\n"
     ]
    }
   ],
   "source": [
    "body = \"\"\n",
    "\n",
    "for section, text in texts_di.items():\n",
    "    body += section\n",
    "    body += \"\\n\\n\"\n",
    "    body += text\n",
    "    body += \"\\n\\n\"\n",
    "\n",
    "print(body[:3000])"
   ]
  },
  {
   "cell_type": "markdown",
   "metadata": {},
   "source": [
    "The function below lets you display the body text in one line (unhide to see exactly the same as above):"
   ]
  },
  {
   "cell_type": "code",
   "execution_count": 13,
   "metadata": {
    "_kg_hide-output": true
   },
   "outputs": [
    {
     "name": "stdout",
     "output_type": "stream",
     "text": [
      "Objective\n",
      "\n",
      "In this study, we used the imported cases and air travel data from Iran to other Middle East countries to estimate the number of COVID-19 cases in Iran. Then we compared our estimates with the number of reported cases in Iran to evaluate the extent of under-ascertainment.\n",
      "\n",
      "Data\n",
      "\n",
      "We obtained transport capability of international airlines from 30 major airports in Iran from 1 February to 24 February 2020 (WorldData, 2020), from the Variflight platform (https://data.variflight.com/). We collected the number of exported cases from Iran to other countries in the Middle East (World Health Organization, 2020).Population size of Iran (81,800,269 in 2018) was obtained from the World Bank (https://data.worldbank.org/). Table 1 shows the number of daily population flow and total reported cases of countries used in our calculation.\n",
      "\n",
      "Methods\n",
      "\n",
      "Following Imai et al.'s (2020), we assumed number of cases (n) exported from Iran follows a Binomial distribution (Bin) with size N and probability p. Here, N represents total number of cases infected in Iran, and p is the probability that one case . CC-BY-NC-ND 4.0 International license It is made available under a author/funder, who has granted medRxiv a license to display the preprint in perpetuity.is the (which was not peer-reviewed) The copyright holder for this preprint . https://doi.org/10.1101/2020.03.02.20030320 doi: medRxiv preprint is detected overseas. We approximated p by the ratio of daily outbound passengers of Iran (D) over total size of population (M) that those airports serve and multiplying the mean duration (t) from exposure to detection. Thus, p = Dt / M. We set t at 10 days according to (Imai et al., 2020) . We assumed that the catchment population is the total population of Iran. We calculated the maximum likelihood estimates of the total number of COVID-19 cases in Iran (λ) by fitting model to the number of confirmed cases with Binomial-distributed likelihood framework. As shown in Eqn (1),represents the total log-likelihood and k is the total number of countries we selected.The 95% confidence intervals (CI) are calculated by using the profile likelihood estimation approach determined by a Chi-square quantile.To explore more alternative scenarios, we also considered a smaller catchment population (60,000,000) and a shorter detection window (8 days). We considered a baseline scenario with 100% attendance rate for each aircraft as well as other alternative scenarios. In addition, we tested the situation that 90% and 70%attendance rate for each aircraft, keeping other situation as baseline scenario.\n",
      "\n",
      "Results and discussion\n",
      "\n",
      "We estimated the total number of cases in Iran was 16533 (95% CI: 5925, 35538) by 25 February 2020. \n",
      "\n",
      "Ethics approval and consent to participate\n",
      "\n",
      "The ethical approval or individual consent was not applicable.\n",
      "\n",
      "Availability of data and materials\n",
      "\n",
      "All data and materials used in this work were publicly available.\n",
      "\n",
      "Consent for publication\n",
      "\n",
      "Not applicable.\n",
      "\n",
      "Funding\n",
      "\n",
      ". CC-BY-\n"
     ]
    }
   ],
   "source": [
    "print(format_body(file['body_text'])[:3000])"
   ]
  },
  {
   "cell_type": "markdown",
   "metadata": {},
   "source": [
    "#### Biorxiv: Metadata\n",
    "Let's first see what keys are contained in the `metadata` dictionary:"
   ]
  },
  {
   "cell_type": "code",
   "execution_count": 14,
   "metadata": {},
   "outputs": [
    {
     "name": "stdout",
     "output_type": "stream",
     "text": [
      "dict_keys(['title', 'authors'])\n"
     ]
    }
   ],
   "source": [
    "print(all_files[0]['metadata'].keys())"
   ]
  },
  {
   "cell_type": "markdown",
   "metadata": {},
   "source": [
    "Let's take a look at each of the correspond values:"
   ]
  },
  {
   "cell_type": "code",
   "execution_count": 15,
   "metadata": {},
   "outputs": [
    {
     "name": "stdout",
     "output_type": "stream",
     "text": [
      "Preliminary estimation of the novel coronavirus disease (COVID-19) cases in Iran: a modelling analysis based on overseas cases and air travel data\n"
     ]
    }
   ],
   "source": [
    "print(all_files[0]['metadata']['title'])"
   ]
  },
  {
   "cell_type": "code",
   "execution_count": 16,
   "metadata": {},
   "outputs": [
    {
     "name": "stdout",
     "output_type": "stream",
     "text": [
      "[{'affiliation': {'institution': 'Hong Kong Polytechnic University',\n",
      "                  'laboratory': '',\n",
      "                  'location': {'country': 'China',\n",
      "                               'settlement': 'Hong Kong SAR'}},\n",
      "  'email': '',\n",
      "  'first': 'Zian',\n",
      "  'last': 'Zhuang',\n",
      "  'middle': [],\n",
      "  'suffix': ''},\n",
      " {'affiliation': {'institution': 'Chinese University of Hong Kong',\n",
      "                  'laboratory': '',\n",
      "                  'location': {'country': 'China', 'settlement': 'Hong Kong'}},\n",
      "  'email': '',\n",
      "  'first': 'Shi',\n",
      "  'last': 'Zhao',\n",
      "  'middle': [],\n",
      "  'suffix': ''},\n",
      " {'affiliation': {'institution': 'University of Michigan',\n",
      "                  'laboratory': '',\n",
      "                  'location': {'country': 'USA',\n",
      "                               'region': 'Michigan',\n",
      "                               'settlement': 'Ann Arbor'}},\n",
      "  'email': '',\n",
      "  'first': 'Qianying',\n",
      "  'last': 'Lin',\n",
      "  'middle': [],\n",
      "  'suffix': ''}]\n"
     ]
    }
   ],
   "source": [
    "authors = all_files[0]['metadata']['authors']\n",
    "pprint(authors[:3])"
   ]
  },
  {
   "cell_type": "markdown",
   "metadata": {},
   "source": [
    "The `format_name` and `format_affiliation` functions:"
   ]
  },
  {
   "cell_type": "code",
   "execution_count": 17,
   "metadata": {},
   "outputs": [
    {
     "name": "stdout",
     "output_type": "stream",
     "text": [
      "Name: Zian Zhuang\n",
      "Affiliation: Hong Kong Polytechnic University, Hong Kong SAR, China\n",
      "\n",
      "Name: Shi Zhao\n",
      "Affiliation: Chinese University of Hong Kong, Hong Kong, China\n",
      "\n",
      "Name: Qianying Lin\n",
      "Affiliation: University of Michigan, Ann Arbor, Michigan, USA\n",
      "\n",
      "Name: Peihua Cao\n",
      "Affiliation: Southern Medical University, Guangzhou, Guangdong, China\n",
      "\n",
      "Name: Yijun Lou\n",
      "Affiliation: Hong Kong Polytechnic University, Hong Kong SAR, China\n",
      "\n",
      "Name: Lin Yang\n",
      "Affiliation: Hong Kong Polytechnic University, Hong Kong, China\n",
      "\n",
      "Name: Daihai He\n",
      "Affiliation: Hong Kong Polytechnic University, Hong Kong SAR, China\n",
      "\n"
     ]
    }
   ],
   "source": [
    "for author in authors:\n",
    "    print(\"Name:\", format_name(author))\n",
    "    print(\"Affiliation:\", format_affiliation(author['affiliation']))\n",
    "    print()"
   ]
  },
  {
   "cell_type": "markdown",
   "metadata": {},
   "source": [
    "Now, let's take as an example a slightly longer list of authors:"
   ]
  },
  {
   "cell_type": "code",
   "execution_count": 18,
   "metadata": {},
   "outputs": [
    {
     "name": "stdout",
     "output_type": "stream",
     "text": [
      "{'authors': [{'affiliation': {'institution': '',\n",
      "                              'laboratory': 'State Key Laboratory of '\n",
      "                                            'Veterinary Etiological Biology '\n",
      "                                            'and Key Laboratory of Veterinary '\n",
      "                                            'Parasitology',\n",
      "                              'location': {}},\n",
      "              'email': '',\n",
      "              'first': 'Xiaofeng',\n",
      "              'last': 'Xu',\n",
      "              'middle': [],\n",
      "              'suffix': ''},\n",
      "             {'affiliation': {},\n",
      "              'email': '',\n",
      "              'first': '$',\n",
      "              'last': '',\n",
      "              'middle': [],\n",
      "              'suffix': ''},\n",
      "             {'affiliation': {},\n",
      "              'email': '',\n",
      "              'first': 'Haishuo',\n",
      "              'last': 'Ji 23$',\n",
      "              'middle': [],\n",
      "              'suffix': ''},\n",
      "             {'affiliation': {'institution': 'Nankai University',\n",
      "                              'laboratory': '',\n",
      "                              'location': {...}},\n",
      "              'email': '',\n",
      "              'first': 'Zhi',\n",
      "              'last': 'Cheng',\n",
      "              'middle': [],\n",
      "              'suffix': ''},\n",
      "             {'affiliation': {},\n",
      "              'email': '',\n",
      "              'first': 'Jin',\n",
      "              'last': '',\n",
      "              'middle': [],\n",
      "              'suffix': ''},\n",
      "             {'affiliation': {'institution': 'Nankai University',\n",
      "                              'laboratory': '',\n",
      "                              'location': {...}},\n",
      "              'email': '',\n",
      "              'first': 'Xue',\n",
      "              'last': 'Yao',\n",
      "              'middle': [],\n",
      "              'suffix': ''},\n",
      "             {'affiliation': {'institution': 'Nankai University',\n",
      "                              'laboratory': '',\n",
      "                              'location': {...}},\n",
      "              'email': '',\n",
      "              'first': 'Yanqiang',\n",
      "              'last': 'Liu',\n",
      "              'middle': [],\n",
      "              'suffix': ''},\n",
      "             {'affiliation': {'institution': 'Nankai University',\n",
      "                              'laboratory': '',\n",
      "                              'location': {...}},\n",
      "              'email': '',\n",
      "              'first': 'Qiang',\n",
      "              'last': 'Zhao',\n",
      "              'middle': [],\n",
      "              'suffix': ''},\n",
      "             {'affiliation': {'institution': 'Nankai University',\n",
      "                              'laboratory': '',\n",
      "                              'location': {...}},\n",
      "              'email': '',\n",
      "              'first': 'Tao',\n",
      "              'last': 'Zhang',\n",
      "              'middle': [],\n",
      "              'suffix': ''},\n",
      "             {'affiliation': {'institution': 'Nankai University',\n",
      "                              'laboratory': '',\n",
      "                              'location': {...}},\n",
      "              'email': '',\n",
      "              'first': 'Jishou',\n",
      "              'last': 'Ruan',\n",
      "              'middle': [],\n",
      "              'suffix': ''},\n",
      "             {'affiliation': {'institution': 'Nankai University',\n",
      "                              'laboratory': '',\n",
      "                              'location': {...}},\n",
      "              'email': '',\n",
      "              'first': 'Wenjun',\n",
      "              'last': 'Bu',\n",
      "              'middle': [],\n",
      "              'suffix': ''},\n",
      "             {'affiliation': {'institution': '',\n",
      "                              'laboratory': 'State Key Laboratory of '\n",
      "                                            'Veterinary Etiological Biology '\n",
      "                                            'and Key Laboratory of Veterinary '\n",
      "                                            'Parasitology',\n",
      "                              'location': {}},\n",
      "              'email': '',\n",
      "              'first': 'Ze',\n",
      "              'last': 'Chen',\n",
      "              'middle': [],\n",
      "              'suffix': ''},\n",
      "             {'affiliation': {'institution': 'Nankai University',\n",
      "                              'laboratory': '',\n",
      "                              'location': {...}},\n",
      "              'email': 'gao_shan@mail.nankai.edu.cnsg18chenze@caas.cnzc',\n",
      "              'first': 'Shan',\n",
      "              'last': 'Gao',\n",
      "              'middle': [],\n",
      "              'suffix': ''}],\n",
      " 'title': 'Using pan RNA-seq analysis to reveal the ubiquitous existence of 1 '\n",
      "          \"5' end and 3' end small RNAs\"}\n"
     ]
    }
   ],
   "source": [
    "pprint(all_files[4]['metadata'], depth=4)"
   ]
  },
  {
   "cell_type": "markdown",
   "metadata": {},
   "source": [
    "Here, I provide the function `format_authors` that let you format a list of authors to get a final string, with the optional argument of showing the affiliation:"
   ]
  },
  {
   "cell_type": "code",
   "execution_count": 19,
   "metadata": {},
   "outputs": [
    {
     "name": "stdout",
     "output_type": "stream",
     "text": [
      "Formatting without affiliation:\n",
      "Xiaofeng Xu, $ , Haishuo Ji 23$, Zhi Cheng, Jin , Xue Yao, Yanqiang Liu, Qiang Zhao, Tao Zhang, Jishou Ruan, Wenjun Bu, Ze Chen, Shan Gao\n",
      "\n",
      "Formatting with affiliation:\n",
      "Xiaofeng Xu, $ , Haishuo Ji 23$, Zhi Cheng (Nankai University, 300071, Tianjin, Tianjin, P.R.China. 10), Jin , Xue Yao (Nankai University, 300071, Tianjin, Tianjin, P.R.China. 10), Yanqiang Liu (Nankai University, 300071, Tianjin, Tianjin, P.R.China. 10), Qiang Zhao (Nankai University, 300071, Tianjin, Tianjin, P.R.China. 10), Tao Zhang (Nankai University, 300071, Tianjin, Tianjin, P.R.China. 10), Jishou Ruan (Nankai University, 300071, Tianjin, P.R.China), Wenjun Bu (Nankai University, 300071, Tianjin, Tianjin, P.R.China. 10), Ze Chen, Shan Gao (Nankai University, 300071, Tianjin, P.R.China)\n"
     ]
    }
   ],
   "source": [
    "authors = all_files[4]['metadata']['authors']\n",
    "print(\"Formatting without affiliation:\")\n",
    "print(format_authors(authors, with_affiliation=False))\n",
    "print(\"\\nFormatting with affiliation:\")\n",
    "print(format_authors(authors, with_affiliation=True))"
   ]
  },
  {
   "cell_type": "markdown",
   "metadata": {},
   "source": [
    "#### Biorxiv: bibliography\n",
    "Let's take a look at the bibliography section. "
   ]
  },
  {
   "cell_type": "code",
   "execution_count": 20,
   "metadata": {},
   "outputs": [
    {
     "name": "stdout",
     "output_type": "stream",
     "text": [
      "[{'authors': [],\n",
      "  'issn': '',\n",
      "  'other_ids': {},\n",
      "  'pages': '',\n",
      "  'ref_id': 'b0',\n",
      "  'title': \"Iran says 'tens of thousands' may get tested for coronavirus\",\n",
      "  'venue': 'abcNEWS',\n",
      "  'volume': '',\n",
      "  'year': None},\n",
      " {'authors': [{'first': 'I', 'last': 'Bogoch', 'middle': [...], 'suffix': ''},\n",
      "              {'first': 'A', 'last': 'Watts', 'middle': [], 'suffix': ''},\n",
      "              {'first': 'A',\n",
      "               'last': 'Thomas-Bachli',\n",
      "               'middle': [],\n",
      "               'suffix': ''},\n",
      "              {'first': 'C', 'last': 'Huber', 'middle': [], 'suffix': ''},\n",
      "              {'first': 'M', 'last': 'Kraemer', 'middle': [...], 'suffix': ''},\n",
      "              {'first': 'K', 'last': 'Khan', 'middle': [], 'suffix': ''}],\n",
      "  'issn': '',\n",
      "  'other_ids': {'DOI': ['10.1093/jtm/taaa011']},\n",
      "  'pages': '',\n",
      "  'ref_id': 'b1',\n",
      "  'title': 'Potential for global spread of a novel coronavirus from China. '\n",
      "           'Journal of travel medicine',\n",
      "  'venue': '',\n",
      "  'volume': '',\n",
      "  'year': 2020}]\n"
     ]
    }
   ],
   "source": [
    "bibs = list(file['bib_entries'].values())\n",
    "pprint(bibs[:2], depth=4)"
   ]
  },
  {
   "cell_type": "markdown",
   "metadata": {},
   "source": [
    "You can reused the `format_authors` function here:"
   ]
  },
  {
   "cell_type": "code",
   "execution_count": 21,
   "metadata": {},
   "outputs": [
    {
     "data": {
      "text/plain": [
       "'I I Bogoch, A Watts, A Thomas-Bachli, C Huber, M U Kraemer, K Khan'"
      ]
     },
     "execution_count": 21,
     "metadata": {},
     "output_type": "execute_result"
    }
   ],
   "source": [
    "format_authors(bibs[1]['authors'], with_affiliation=False)"
   ]
  },
  {
   "cell_type": "markdown",
   "metadata": {},
   "source": [
    "The following function let you format the bibliography all at once. It only extracts the title, authors, venue, year, and separate each entry of the bibliography with a `;`."
   ]
  },
  {
   "cell_type": "code",
   "execution_count": 22,
   "metadata": {},
   "outputs": [
    {
     "name": "stdout",
     "output_type": "stream",
     "text": [
      "Iran says 'tens of thousands' may get tested for coronavirus, , abcNEWS, None; Potential for global spread of a novel coronavirus from China. Journal of travel medicine, I I Bogoch, A Watts, A Thomas-Bachli, C Huber, M U Kraemer, K Khan, , 2020; Estimating the potential total, N Imai, I Dorigatti, Cori A Riley, S Ferguson, N M , , None\n"
     ]
    }
   ],
   "source": [
    "bib_formatted = format_bib(bibs[:5])\n",
    "print(bib_formatted)"
   ]
  },
  {
   "cell_type": "markdown",
   "metadata": {},
   "source": [
    "#### Biorxiv: Generate CSV\n",
    "\n",
    "In this section, I show you how to manually generate the CSV files. As you can see, it's now super simple because of the `format_` helper functions. In the next sections, I show you have to generate them in 3 lines using the `load_files` and `generate_clean_dr` helper functions."
   ]
  },
  {
   "cell_type": "code",
   "execution_count": 23,
   "metadata": {},
   "outputs": [
    {
     "data": {
      "application/vnd.jupyter.widget-view+json": {
       "model_id": "d9626022898745fcaea9c88f87c1b9ae",
       "version_major": 2,
       "version_minor": 0
      },
      "text/plain": [
       "HBox(children=(FloatProgress(value=0.0, max=803.0), HTML(value='')))"
      ]
     },
     "metadata": {},
     "output_type": "display_data"
    },
    {
     "name": "stdout",
     "output_type": "stream",
     "text": [
      "\n"
     ]
    }
   ],
   "source": [
    "cleaned_files = []\n",
    "\n",
    "for file in tqdm(all_files):\n",
    "    features = [\n",
    "        file['paper_id'],\n",
    "        file['metadata']['title'],\n",
    "        format_authors(file['metadata']['authors']),\n",
    "        format_authors(file['metadata']['authors'], \n",
    "                       with_affiliation=True),\n",
    "        format_body(file['abstract']),\n",
    "        format_body(file['body_text']),\n",
    "        format_bib(file['bib_entries']),\n",
    "        file['metadata']['authors'],\n",
    "        file['bib_entries']\n",
    "    ]\n",
    "    \n",
    "    cleaned_files.append(features)"
   ]
  },
  {
   "cell_type": "code",
   "execution_count": 24,
   "metadata": {},
   "outputs": [
    {
     "data": {
      "text/html": [
       "<div>\n",
       "<style scoped>\n",
       "    .dataframe tbody tr th:only-of-type {\n",
       "        vertical-align: middle;\n",
       "    }\n",
       "\n",
       "    .dataframe tbody tr th {\n",
       "        vertical-align: top;\n",
       "    }\n",
       "\n",
       "    .dataframe thead th {\n",
       "        text-align: right;\n",
       "    }\n",
       "</style>\n",
       "<table border=\"1\" class=\"dataframe\">\n",
       "  <thead>\n",
       "    <tr style=\"text-align: right;\">\n",
       "      <th></th>\n",
       "      <th>paper_id</th>\n",
       "      <th>title</th>\n",
       "      <th>authors</th>\n",
       "      <th>affiliations</th>\n",
       "      <th>abstract</th>\n",
       "      <th>text</th>\n",
       "      <th>bibliography</th>\n",
       "      <th>raw_authors</th>\n",
       "      <th>raw_bibliography</th>\n",
       "    </tr>\n",
       "  </thead>\n",
       "  <tbody>\n",
       "    <tr>\n",
       "      <th>0</th>\n",
       "      <td>e5163021a1b88e2c2335cca27fbfcf883f870830</td>\n",
       "      <td>Preliminary estimation of the novel coronaviru...</td>\n",
       "      <td>Zian Zhuang, Shi Zhao, Qianying Lin, Peihua Ca...</td>\n",
       "      <td>Zian Zhuang (Hong Kong Polytechnic University,...</td>\n",
       "      <td></td>\n",
       "      <td>Objective\\n\\nIn this study, we used the import...</td>\n",
       "      <td>Iran says 'tens of thousands' may get tested f...</td>\n",
       "      <td>[{'first': 'Zian', 'middle': [], 'last': 'Zhua...</td>\n",
       "      <td>{'BIBREF0': {'ref_id': 'b0', 'title': 'Iran sa...</td>\n",
       "    </tr>\n",
       "    <tr>\n",
       "      <th>1</th>\n",
       "      <td>6d1b40bcdde63e22931509db389c6bf1949901dd</td>\n",
       "      <td>Title page • Title A combinatorial biomolecula...</td>\n",
       "      <td>Jasmim Leal, Xinquan Liu, Xiujuan Peng, Rashmi...</td>\n",
       "      <td>Jasmim Leal (The University of Texas at Austin...</td>\n",
       "      <td>Abstract\\n\\nDrugs and drug delivery systems ha...</td>\n",
       "      <td>Introduction\\n\\nFor successful treatment of mu...</td>\n",
       "      <td>G) void area (i.e. porosity) measurements. Dat...</td>\n",
       "      <td>[{'first': 'Jasmim', 'middle': [], 'last': 'Le...</td>\n",
       "      <td>{'BIBREF0': {'ref_id': 'b0', 'title': 'G) void...</td>\n",
       "    </tr>\n",
       "    <tr>\n",
       "      <th>2</th>\n",
       "      <td>2d02192c3d251c2b561d37274350660277658a74</td>\n",
       "      <td>Enabling large-scale genome editing by reducin...</td>\n",
       "      <td>Cory J Smith, Oscar Castanon, Khaled Said, Ver...</td>\n",
       "      <td>Cory J Smith (Harvard Medical School, Boston, ...</td>\n",
       "      <td>Abstract\\n\\nTo extend the frontier of genome e...</td>\n",
       "      <td>table S2.\\n\\nTo achieve similar efficiencies t...</td>\n",
       "      <td>Sequence organization of the human genome, C W...</td>\n",
       "      <td>[{'first': 'Cory', 'middle': ['J'], 'last': 'S...</td>\n",
       "      <td>{'BIBREF0': {'ref_id': 'b0', 'title': 'Sequenc...</td>\n",
       "    </tr>\n",
       "    <tr>\n",
       "      <th>3</th>\n",
       "      <td>970a28c4a3c1fbcb5322772956955b8c4a3bb257</td>\n",
       "      <td>Clinical Characteristics of 2019 Coronavirus P...</td>\n",
       "      <td>Zhangfu Fang, Yi 3#, Kang Wu, Kefang Lai, Xizh...</td>\n",
       "      <td>Zhangfu Fang (Third Affiliated Hospital of She...</td>\n",
       "      <td>Abstract\\n\\nClinical characteristics of novel ...</td>\n",
       "      <td>Introduction\\n\\nCOVID-19 among different studi...</td>\n",
       "      <td>Report of clustering pneumonia of unknown etio...</td>\n",
       "      <td>[{'first': 'Zhangfu', 'middle': [], 'last': 'F...</td>\n",
       "      <td>{'BIBREF0': {'ref_id': 'b0', 'title': 'Report ...</td>\n",
       "    </tr>\n",
       "    <tr>\n",
       "      <th>4</th>\n",
       "      <td>aad76905ce54679c80b75e4ee35717c30e7e1099</td>\n",
       "      <td>Using pan RNA-seq analysis to reveal the ubiqu...</td>\n",
       "      <td>Xiaofeng Xu, $ , Haishuo Ji 23$, Zhi Cheng, Ji...</td>\n",
       "      <td>Xiaofeng Xu, $ , Haishuo Ji 23$, Zhi Cheng (Na...</td>\n",
       "      <td>Abstract\\n\\nIn this study, we used pan RNA-seq...</td>\n",
       "      <td>53\\n\\nRNA sequencing (RNA-seq) , usually based...</td>\n",
       "      <td>R language and Bioconductor in bioinformatics ...</td>\n",
       "      <td>[{'first': 'Xiaofeng', 'middle': [], 'last': '...</td>\n",
       "      <td>{'BIBREF0': {'ref_id': 'b0', 'title': 'R langu...</td>\n",
       "    </tr>\n",
       "  </tbody>\n",
       "</table>\n",
       "</div>"
      ],
      "text/plain": [
       "                                   paper_id  \\\n",
       "0  e5163021a1b88e2c2335cca27fbfcf883f870830   \n",
       "1  6d1b40bcdde63e22931509db389c6bf1949901dd   \n",
       "2  2d02192c3d251c2b561d37274350660277658a74   \n",
       "3  970a28c4a3c1fbcb5322772956955b8c4a3bb257   \n",
       "4  aad76905ce54679c80b75e4ee35717c30e7e1099   \n",
       "\n",
       "                                               title  \\\n",
       "0  Preliminary estimation of the novel coronaviru...   \n",
       "1  Title page • Title A combinatorial biomolecula...   \n",
       "2  Enabling large-scale genome editing by reducin...   \n",
       "3  Clinical Characteristics of 2019 Coronavirus P...   \n",
       "4  Using pan RNA-seq analysis to reveal the ubiqu...   \n",
       "\n",
       "                                             authors  \\\n",
       "0  Zian Zhuang, Shi Zhao, Qianying Lin, Peihua Ca...   \n",
       "1  Jasmim Leal, Xinquan Liu, Xiujuan Peng, Rashmi...   \n",
       "2  Cory J Smith, Oscar Castanon, Khaled Said, Ver...   \n",
       "3  Zhangfu Fang, Yi 3#, Kang Wu, Kefang Lai, Xizh...   \n",
       "4  Xiaofeng Xu, $ , Haishuo Ji 23$, Zhi Cheng, Ji...   \n",
       "\n",
       "                                        affiliations  \\\n",
       "0  Zian Zhuang (Hong Kong Polytechnic University,...   \n",
       "1  Jasmim Leal (The University of Texas at Austin...   \n",
       "2  Cory J Smith (Harvard Medical School, Boston, ...   \n",
       "3  Zhangfu Fang (Third Affiliated Hospital of She...   \n",
       "4  Xiaofeng Xu, $ , Haishuo Ji 23$, Zhi Cheng (Na...   \n",
       "\n",
       "                                            abstract  \\\n",
       "0                                                      \n",
       "1  Abstract\\n\\nDrugs and drug delivery systems ha...   \n",
       "2  Abstract\\n\\nTo extend the frontier of genome e...   \n",
       "3  Abstract\\n\\nClinical characteristics of novel ...   \n",
       "4  Abstract\\n\\nIn this study, we used pan RNA-seq...   \n",
       "\n",
       "                                                text  \\\n",
       "0  Objective\\n\\nIn this study, we used the import...   \n",
       "1  Introduction\\n\\nFor successful treatment of mu...   \n",
       "2  table S2.\\n\\nTo achieve similar efficiencies t...   \n",
       "3  Introduction\\n\\nCOVID-19 among different studi...   \n",
       "4  53\\n\\nRNA sequencing (RNA-seq) , usually based...   \n",
       "\n",
       "                                        bibliography  \\\n",
       "0  Iran says 'tens of thousands' may get tested f...   \n",
       "1  G) void area (i.e. porosity) measurements. Dat...   \n",
       "2  Sequence organization of the human genome, C W...   \n",
       "3  Report of clustering pneumonia of unknown etio...   \n",
       "4  R language and Bioconductor in bioinformatics ...   \n",
       "\n",
       "                                         raw_authors  \\\n",
       "0  [{'first': 'Zian', 'middle': [], 'last': 'Zhua...   \n",
       "1  [{'first': 'Jasmim', 'middle': [], 'last': 'Le...   \n",
       "2  [{'first': 'Cory', 'middle': ['J'], 'last': 'S...   \n",
       "3  [{'first': 'Zhangfu', 'middle': [], 'last': 'F...   \n",
       "4  [{'first': 'Xiaofeng', 'middle': [], 'last': '...   \n",
       "\n",
       "                                    raw_bibliography  \n",
       "0  {'BIBREF0': {'ref_id': 'b0', 'title': 'Iran sa...  \n",
       "1  {'BIBREF0': {'ref_id': 'b0', 'title': 'G) void...  \n",
       "2  {'BIBREF0': {'ref_id': 'b0', 'title': 'Sequenc...  \n",
       "3  {'BIBREF0': {'ref_id': 'b0', 'title': 'Report ...  \n",
       "4  {'BIBREF0': {'ref_id': 'b0', 'title': 'R langu...  "
      ]
     },
     "execution_count": 24,
     "metadata": {},
     "output_type": "execute_result"
    }
   ],
   "source": [
    "col_names = [\n",
    "    'paper_id', \n",
    "    'title', \n",
    "    'authors',\n",
    "    'affiliations', \n",
    "    'abstract', \n",
    "    'text', \n",
    "    'bibliography',\n",
    "    'raw_authors',\n",
    "    'raw_bibliography'\n",
    "]\n",
    "\n",
    "clean_df = pd.DataFrame(cleaned_files, columns=col_names)\n",
    "clean_df.head()"
   ]
  },
  {
   "cell_type": "code",
   "execution_count": 26,
   "metadata": {},
   "outputs": [],
   "source": [
    "clean_df.to_csv('cleaned/biorxiv_clean.csv', index=False)"
   ]
  },
  {
   "cell_type": "markdown",
   "metadata": {},
   "source": [
    "## PMC: Generate CSV"
   ]
  },
  {
   "cell_type": "code",
   "execution_count": 27,
   "metadata": {},
   "outputs": [
    {
     "data": {
      "application/vnd.jupyter.widget-view+json": {
       "model_id": "320fc646c4ac42dc8b053eb023ae378b",
       "version_major": 2,
       "version_minor": 0
      },
      "text/plain": [
       "HBox(children=(FloatProgress(value=0.0, max=1426.0), HTML(value='')))"
      ]
     },
     "metadata": {},
     "output_type": "display_data"
    },
    {
     "name": "stdout",
     "output_type": "stream",
     "text": [
      "\n"
     ]
    },
    {
     "data": {
      "application/vnd.jupyter.widget-view+json": {
       "model_id": "20f6ad64f01c46aab9fa9604dc8f28bf",
       "version_major": 2,
       "version_minor": 0
      },
      "text/plain": [
       "HBox(children=(FloatProgress(value=0.0, max=1426.0), HTML(value='')))"
      ]
     },
     "metadata": {},
     "output_type": "display_data"
    },
    {
     "name": "stdout",
     "output_type": "stream",
     "text": [
      "\n"
     ]
    },
    {
     "data": {
      "text/html": [
       "<div>\n",
       "<style scoped>\n",
       "    .dataframe tbody tr th:only-of-type {\n",
       "        vertical-align: middle;\n",
       "    }\n",
       "\n",
       "    .dataframe tbody tr th {\n",
       "        vertical-align: top;\n",
       "    }\n",
       "\n",
       "    .dataframe thead th {\n",
       "        text-align: right;\n",
       "    }\n",
       "</style>\n",
       "<table border=\"1\" class=\"dataframe\">\n",
       "  <thead>\n",
       "    <tr style=\"text-align: right;\">\n",
       "      <th></th>\n",
       "      <th>paper_id</th>\n",
       "      <th>title</th>\n",
       "      <th>authors</th>\n",
       "      <th>affiliations</th>\n",
       "      <th>abstract</th>\n",
       "      <th>text</th>\n",
       "      <th>bibliography</th>\n",
       "      <th>raw_authors</th>\n",
       "      <th>raw_bibliography</th>\n",
       "    </tr>\n",
       "  </thead>\n",
       "  <tbody>\n",
       "    <tr>\n",
       "      <th>0</th>\n",
       "      <td>c723a1d259891519fd489b94a7ff128f9a5555aa</td>\n",
       "      <td>Partitioning of Viruses in Wastewater Systems ...</td>\n",
       "      <td>Mari Titcombe Lee, Amy Pruden, Linsey C Marr</td>\n",
       "      <td>Mari Titcombe Lee, Amy Pruden, Linsey C Marr</td>\n",
       "      <td>Abstract\\n\\nTo gain insight into the potential...</td>\n",
       "      <td>■ INTRODUCTION\\n\\nThe Ebola outbreak in 2014 r...</td>\n",
       "      <td>Transmission of Ebola Viruses: What We Know an...</td>\n",
       "      <td>[{'first': 'Mari', 'middle': ['Titcombe'], 'la...</td>\n",
       "      <td>{'BIBREF0': {'ref_id': 'b0', 'title': 'Transmi...</td>\n",
       "    </tr>\n",
       "    <tr>\n",
       "      <th>1</th>\n",
       "      <td>f5a95ba3b592c46903d5f4a4c00bd15a2cbb74f9</td>\n",
       "      <td>Influenza vaccines and vaccinations in Poland ...</td>\n",
       "      <td>Lidia B Brydak, Agnieszka Woźniak Kosek, Aneta...</td>\n",
       "      <td>Lidia B Brydak (National Institute of Public H...</td>\n",
       "      <td></td>\n",
       "      <td>Background\\n\\nInfluenza causes seasonal infect...</td>\n",
       "      <td>Influenza, pandemic flu myth or a real threat?...</td>\n",
       "      <td>[{'first': 'Lidia', 'middle': ['B'], 'last': '...</td>\n",
       "      <td>{'BIBREF0': {'ref_id': 'b0', 'title': 'Influen...</td>\n",
       "    </tr>\n",
       "    <tr>\n",
       "      <th>2</th>\n",
       "      <td>6397e80ffb931ee6f6d03c1fe85ef82aa36e1b9a</td>\n",
       "      <td></td>\n",
       "      <td></td>\n",
       "      <td></td>\n",
       "      <td></td>\n",
       "      <td>\\n\\nOn March 7, 2013 , this report was posted ...</td>\n",
       "      <td>Novel coronavirus associated with severe respi...</td>\n",
       "      <td>[]</td>\n",
       "      <td>{'BIBREF0': {'ref_id': 'b0', 'title': 'Novel c...</td>\n",
       "    </tr>\n",
       "    <tr>\n",
       "      <th>3</th>\n",
       "      <td>724be3f77bbbdcc7e73de43f4cfe22335ffb9ef9</td>\n",
       "      <td>Influenza D Virus of New Phylogenetic Lineage,...</td>\n",
       "      <td></td>\n",
       "      <td></td>\n",
       "      <td></td>\n",
       "      <td>\\n\\nAppendix Table 1 \\n\\n</td>\n",
       "      <td>IDV, influenza D virus; mAb, monoclonal antibo...</td>\n",
       "      <td>[]</td>\n",
       "      <td>{'BIBREF4': {'ref_id': 'b4', 'title': 'IDV, in...</td>\n",
       "    </tr>\n",
       "    <tr>\n",
       "      <th>4</th>\n",
       "      <td>0ae70ae84cc9052dedf214ca44a842f0f9edc161</td>\n",
       "      <td>Capacity of Thailand to Contain an Emerging In...</td>\n",
       "      <td>Weerasak Putthasri, Jongkol Lertiendumrong, Po...</td>\n",
       "      <td>Weerasak Putthasri (Mahidol University, 420/6 ...</td>\n",
       "      <td>Abstract\\n\\nSoutheast Asia will likely be the ...</td>\n",
       "      <td>\\n\\nT he World Health Organization (WHO) has h...</td>\n",
       "      <td>Cumulative number of confi rmed human cases of...</td>\n",
       "      <td>[{'first': 'Weerasak', 'middle': [], 'last': '...</td>\n",
       "      <td>{'BIBREF0': {'ref_id': 'b0', 'title': 'Cumulat...</td>\n",
       "    </tr>\n",
       "  </tbody>\n",
       "</table>\n",
       "</div>"
      ],
      "text/plain": [
       "                                   paper_id  \\\n",
       "0  c723a1d259891519fd489b94a7ff128f9a5555aa   \n",
       "1  f5a95ba3b592c46903d5f4a4c00bd15a2cbb74f9   \n",
       "2  6397e80ffb931ee6f6d03c1fe85ef82aa36e1b9a   \n",
       "3  724be3f77bbbdcc7e73de43f4cfe22335ffb9ef9   \n",
       "4  0ae70ae84cc9052dedf214ca44a842f0f9edc161   \n",
       "\n",
       "                                               title  \\\n",
       "0  Partitioning of Viruses in Wastewater Systems ...   \n",
       "1  Influenza vaccines and vaccinations in Poland ...   \n",
       "2                                                      \n",
       "3  Influenza D Virus of New Phylogenetic Lineage,...   \n",
       "4  Capacity of Thailand to Contain an Emerging In...   \n",
       "\n",
       "                                             authors  \\\n",
       "0       Mari Titcombe Lee, Amy Pruden, Linsey C Marr   \n",
       "1  Lidia B Brydak, Agnieszka Woźniak Kosek, Aneta...   \n",
       "2                                                      \n",
       "3                                                      \n",
       "4  Weerasak Putthasri, Jongkol Lertiendumrong, Po...   \n",
       "\n",
       "                                        affiliations  \\\n",
       "0       Mari Titcombe Lee, Amy Pruden, Linsey C Marr   \n",
       "1  Lidia B Brydak (National Institute of Public H...   \n",
       "2                                                      \n",
       "3                                                      \n",
       "4  Weerasak Putthasri (Mahidol University, 420/6 ...   \n",
       "\n",
       "                                            abstract  \\\n",
       "0  Abstract\\n\\nTo gain insight into the potential...   \n",
       "1                                                      \n",
       "2                                                      \n",
       "3                                                      \n",
       "4  Abstract\\n\\nSoutheast Asia will likely be the ...   \n",
       "\n",
       "                                                text  \\\n",
       "0  ■ INTRODUCTION\\n\\nThe Ebola outbreak in 2014 r...   \n",
       "1  Background\\n\\nInfluenza causes seasonal infect...   \n",
       "2  \\n\\nOn March 7, 2013 , this report was posted ...   \n",
       "3                          \\n\\nAppendix Table 1 \\n\\n   \n",
       "4  \\n\\nT he World Health Organization (WHO) has h...   \n",
       "\n",
       "                                        bibliography  \\\n",
       "0  Transmission of Ebola Viruses: What We Know an...   \n",
       "1  Influenza, pandemic flu myth or a real threat?...   \n",
       "2  Novel coronavirus associated with severe respi...   \n",
       "3  IDV, influenza D virus; mAb, monoclonal antibo...   \n",
       "4  Cumulative number of confi rmed human cases of...   \n",
       "\n",
       "                                         raw_authors  \\\n",
       "0  [{'first': 'Mari', 'middle': ['Titcombe'], 'la...   \n",
       "1  [{'first': 'Lidia', 'middle': ['B'], 'last': '...   \n",
       "2                                                 []   \n",
       "3                                                 []   \n",
       "4  [{'first': 'Weerasak', 'middle': [], 'last': '...   \n",
       "\n",
       "                                    raw_bibliography  \n",
       "0  {'BIBREF0': {'ref_id': 'b0', 'title': 'Transmi...  \n",
       "1  {'BIBREF0': {'ref_id': 'b0', 'title': 'Influen...  \n",
       "2  {'BIBREF0': {'ref_id': 'b0', 'title': 'Novel c...  \n",
       "3  {'BIBREF4': {'ref_id': 'b4', 'title': 'IDV, in...  \n",
       "4  {'BIBREF0': {'ref_id': 'b0', 'title': 'Cumulat...  "
      ]
     },
     "execution_count": 27,
     "metadata": {},
     "output_type": "execute_result"
    }
   ],
   "source": [
    "pmc_dir = 'CORD-19-research-challenge/2020-03-13/pmc_custom_license/pmc_custom_license/'\n",
    "pmc_files = load_files(pmc_dir)\n",
    "pmc_df = generate_clean_df(pmc_files)\n",
    "pmc_df.head()"
   ]
  },
  {
   "cell_type": "code",
   "execution_count": 29,
   "metadata": {},
   "outputs": [],
   "source": [
    "pmc_df.to_csv('cleaned/clean_pmc.csv', index=False)"
   ]
  },
  {
   "cell_type": "markdown",
   "metadata": {},
   "source": [
    "## Commercial Use: Generate CSV"
   ]
  },
  {
   "cell_type": "code",
   "execution_count": 30,
   "metadata": {},
   "outputs": [
    {
     "data": {
      "application/vnd.jupyter.widget-view+json": {
       "model_id": "726e2ff0c43b4faeaef44292c23c6fc6",
       "version_major": 2,
       "version_minor": 0
      },
      "text/plain": [
       "HBox(children=(FloatProgress(value=0.0, max=9000.0), HTML(value='')))"
      ]
     },
     "metadata": {},
     "output_type": "display_data"
    },
    {
     "name": "stdout",
     "output_type": "stream",
     "text": [
      "\n"
     ]
    },
    {
     "data": {
      "application/vnd.jupyter.widget-view+json": {
       "model_id": "c234a667222848ffa1d9a1717dd0ec8a",
       "version_major": 2,
       "version_minor": 0
      },
      "text/plain": [
       "HBox(children=(FloatProgress(value=0.0, max=9000.0), HTML(value='')))"
      ]
     },
     "metadata": {},
     "output_type": "display_data"
    },
    {
     "name": "stdout",
     "output_type": "stream",
     "text": [
      "\n"
     ]
    },
    {
     "data": {
      "text/html": [
       "<div>\n",
       "<style scoped>\n",
       "    .dataframe tbody tr th:only-of-type {\n",
       "        vertical-align: middle;\n",
       "    }\n",
       "\n",
       "    .dataframe tbody tr th {\n",
       "        vertical-align: top;\n",
       "    }\n",
       "\n",
       "    .dataframe thead th {\n",
       "        text-align: right;\n",
       "    }\n",
       "</style>\n",
       "<table border=\"1\" class=\"dataframe\">\n",
       "  <thead>\n",
       "    <tr style=\"text-align: right;\">\n",
       "      <th></th>\n",
       "      <th>paper_id</th>\n",
       "      <th>title</th>\n",
       "      <th>authors</th>\n",
       "      <th>affiliations</th>\n",
       "      <th>abstract</th>\n",
       "      <th>text</th>\n",
       "      <th>bibliography</th>\n",
       "      <th>raw_authors</th>\n",
       "      <th>raw_bibliography</th>\n",
       "    </tr>\n",
       "  </thead>\n",
       "  <tbody>\n",
       "    <tr>\n",
       "      <th>0</th>\n",
       "      <td>589045646462acd78b115142b5464cca998f26d7</td>\n",
       "      <td>Src inhibitor reduces permeability without dis...</td>\n",
       "      <td>Yi-Xin He, Jin Liu, Baosheng Guo, Yi-Xiang Wan...</td>\n",
       "      <td>Yi-Xin He (Hong Kong Baptist University, Hong ...</td>\n",
       "      <td></td>\n",
       "      <td>\\n\\nThe subchondral collapse is directly attri...</td>\n",
       "      <td>Pulsed methylprednisolone therapy compared to ...</td>\n",
       "      <td>[{'first': 'Yi-Xin', 'middle': [], 'last': 'He...</td>\n",
       "      <td>{'BIBREF0': {'ref_id': 'b0', 'title': 'Pulsed ...</td>\n",
       "    </tr>\n",
       "    <tr>\n",
       "      <th>1</th>\n",
       "      <td>ba2d3601f5ae3bb5964c8515431abe352bad9437</td>\n",
       "      <td>The association between temperature, rainfall ...</td>\n",
       "      <td>Fazle Rabbi Chowdhury, Quazi Shihab, Uddin Ibr...</td>\n",
       "      <td>Fazle Rabbi Chowdhury (Bangabandhu Sheikh Muji...</td>\n",
       "      <td>Abstract\\n\\nBangladesh is one of the world's m...</td>\n",
       "      <td>\\n\\na1111111111 a1111111111 a1111111111 a11111...</td>\n",
       "      <td>Climate change 2014 synthesis report summary f...</td>\n",
       "      <td>[{'first': 'Fazle', 'middle': ['Rabbi'], 'last...</td>\n",
       "      <td>{'BIBREF0': {'ref_id': 'b0', 'title': 'Climate...</td>\n",
       "    </tr>\n",
       "    <tr>\n",
       "      <th>2</th>\n",
       "      <td>d38f954f1b3937ead02257e75454dd9ad2ec0ce6</td>\n",
       "      <td>An evaluation of psychological distress and so...</td>\n",
       "      <td>Abdulaziz Mohammed, Taiwo Lateef Sheikh, Sahee...</td>\n",
       "      <td>Abdulaziz Mohammed, Taiwo Lateef Sheikh, Sahee...</td>\n",
       "      <td>Abstract\\n\\nBackground: By September 2014, an ...</td>\n",
       "      <td>Background\\n\\nThe West African outbreak of Ebo...</td>\n",
       "      <td>Emergence of Zaire Ebola Virus Disease in Guin...</td>\n",
       "      <td>[{'first': 'Abdulaziz', 'middle': [], 'last': ...</td>\n",
       "      <td>{'BIBREF0': {'ref_id': 'b0', 'title': 'Emergen...</td>\n",
       "    </tr>\n",
       "    <tr>\n",
       "      <th>3</th>\n",
       "      <td>77dc09841a62d92ba5a40d4f848f34e3c4e27713</td>\n",
       "      <td>Social contact patterns relevant to the spread...</td>\n",
       "      <td>Kathy Kong,  Leung, Mark Jit, Eric H Y Lau, Jo...</td>\n",
       "      <td>Kathy Kong,  Leung (The University of Hong Kon...</td>\n",
       "      <td></td>\n",
       "      <td>The impact of different social contact data on...</td>\n",
       "      <td>Inferring Influenza Infection Attack Rate from...</td>\n",
       "      <td>[{'first': 'Kathy', 'middle': [], 'last': 'Kon...</td>\n",
       "      <td>{'BIBREF0': {'ref_id': 'b0', 'title': 'Inferri...</td>\n",
       "    </tr>\n",
       "    <tr>\n",
       "      <th>4</th>\n",
       "      <td>5be812ecd3a63e7b5e718f17d9ca3a0d0fdb4a70</td>\n",
       "      <td>Spatiotemporal dynamics of HSV genome nuclear ...</td>\n",
       "      <td>Eiki Sekine, Nora Schmidt, David Gaboriau, Pet...</td>\n",
       "      <td>Eiki Sekine (St Mary's Medical School, London,...</td>\n",
       "      <td>Abstract\\n\\nWe investigated the spatiotemporal...</td>\n",
       "      <td>Introduction\\n\\nVirtually all DNA virus classe...</td>\n",
       "      <td>Viral entry into the nucleus, G R Whittaker, M...</td>\n",
       "      <td>[{'first': 'Eiki', 'middle': [], 'last': 'Seki...</td>\n",
       "      <td>{'BIBREF0': {'ref_id': 'b0', 'title': 'Viral e...</td>\n",
       "    </tr>\n",
       "  </tbody>\n",
       "</table>\n",
       "</div>"
      ],
      "text/plain": [
       "                                   paper_id  \\\n",
       "0  589045646462acd78b115142b5464cca998f26d7   \n",
       "1  ba2d3601f5ae3bb5964c8515431abe352bad9437   \n",
       "2  d38f954f1b3937ead02257e75454dd9ad2ec0ce6   \n",
       "3  77dc09841a62d92ba5a40d4f848f34e3c4e27713   \n",
       "4  5be812ecd3a63e7b5e718f17d9ca3a0d0fdb4a70   \n",
       "\n",
       "                                               title  \\\n",
       "0  Src inhibitor reduces permeability without dis...   \n",
       "1  The association between temperature, rainfall ...   \n",
       "2  An evaluation of psychological distress and so...   \n",
       "3  Social contact patterns relevant to the spread...   \n",
       "4  Spatiotemporal dynamics of HSV genome nuclear ...   \n",
       "\n",
       "                                             authors  \\\n",
       "0  Yi-Xin He, Jin Liu, Baosheng Guo, Yi-Xiang Wan...   \n",
       "1  Fazle Rabbi Chowdhury, Quazi Shihab, Uddin Ibr...   \n",
       "2  Abdulaziz Mohammed, Taiwo Lateef Sheikh, Sahee...   \n",
       "3  Kathy Kong,  Leung, Mark Jit, Eric H Y Lau, Jo...   \n",
       "4  Eiki Sekine, Nora Schmidt, David Gaboriau, Pet...   \n",
       "\n",
       "                                        affiliations  \\\n",
       "0  Yi-Xin He (Hong Kong Baptist University, Hong ...   \n",
       "1  Fazle Rabbi Chowdhury (Bangabandhu Sheikh Muji...   \n",
       "2  Abdulaziz Mohammed, Taiwo Lateef Sheikh, Sahee...   \n",
       "3  Kathy Kong,  Leung (The University of Hong Kon...   \n",
       "4  Eiki Sekine (St Mary's Medical School, London,...   \n",
       "\n",
       "                                            abstract  \\\n",
       "0                                                      \n",
       "1  Abstract\\n\\nBangladesh is one of the world's m...   \n",
       "2  Abstract\\n\\nBackground: By September 2014, an ...   \n",
       "3                                                      \n",
       "4  Abstract\\n\\nWe investigated the spatiotemporal...   \n",
       "\n",
       "                                                text  \\\n",
       "0  \\n\\nThe subchondral collapse is directly attri...   \n",
       "1  \\n\\na1111111111 a1111111111 a1111111111 a11111...   \n",
       "2  Background\\n\\nThe West African outbreak of Ebo...   \n",
       "3  The impact of different social contact data on...   \n",
       "4  Introduction\\n\\nVirtually all DNA virus classe...   \n",
       "\n",
       "                                        bibliography  \\\n",
       "0  Pulsed methylprednisolone therapy compared to ...   \n",
       "1  Climate change 2014 synthesis report summary f...   \n",
       "2  Emergence of Zaire Ebola Virus Disease in Guin...   \n",
       "3  Inferring Influenza Infection Attack Rate from...   \n",
       "4  Viral entry into the nucleus, G R Whittaker, M...   \n",
       "\n",
       "                                         raw_authors  \\\n",
       "0  [{'first': 'Yi-Xin', 'middle': [], 'last': 'He...   \n",
       "1  [{'first': 'Fazle', 'middle': ['Rabbi'], 'last...   \n",
       "2  [{'first': 'Abdulaziz', 'middle': [], 'last': ...   \n",
       "3  [{'first': 'Kathy', 'middle': [], 'last': 'Kon...   \n",
       "4  [{'first': 'Eiki', 'middle': [], 'last': 'Seki...   \n",
       "\n",
       "                                    raw_bibliography  \n",
       "0  {'BIBREF0': {'ref_id': 'b0', 'title': 'Pulsed ...  \n",
       "1  {'BIBREF0': {'ref_id': 'b0', 'title': 'Climate...  \n",
       "2  {'BIBREF0': {'ref_id': 'b0', 'title': 'Emergen...  \n",
       "3  {'BIBREF0': {'ref_id': 'b0', 'title': 'Inferri...  \n",
       "4  {'BIBREF0': {'ref_id': 'b0', 'title': 'Viral e...  "
      ]
     },
     "execution_count": 30,
     "metadata": {},
     "output_type": "execute_result"
    }
   ],
   "source": [
    "comm_dir = 'CORD-19-research-challenge/2020-03-13/comm_use_subset/comm_use_subset/'\n",
    "comm_files = load_files(comm_dir)\n",
    "comm_df = generate_clean_df(comm_files)\n",
    "comm_df.head()"
   ]
  },
  {
   "cell_type": "code",
   "execution_count": 31,
   "metadata": {},
   "outputs": [],
   "source": [
    "comm_df.to_csv('cleaned/clean_comm_use.csv', index=False)"
   ]
  },
  {
   "cell_type": "markdown",
   "metadata": {},
   "source": [
    "## Non-commercial Use: Generate CSV"
   ]
  },
  {
   "cell_type": "code",
   "execution_count": 32,
   "metadata": {},
   "outputs": [
    {
     "data": {
      "application/vnd.jupyter.widget-view+json": {
       "model_id": "628c55e898494e06b16e1f3af2280209",
       "version_major": 2,
       "version_minor": 0
      },
      "text/plain": [
       "HBox(children=(FloatProgress(value=0.0, max=1973.0), HTML(value='')))"
      ]
     },
     "metadata": {},
     "output_type": "display_data"
    },
    {
     "name": "stdout",
     "output_type": "stream",
     "text": [
      "\n"
     ]
    },
    {
     "data": {
      "application/vnd.jupyter.widget-view+json": {
       "model_id": "79ddfa435ede477d89f337d3faff1a19",
       "version_major": 2,
       "version_minor": 0
      },
      "text/plain": [
       "HBox(children=(FloatProgress(value=0.0, max=1973.0), HTML(value='')))"
      ]
     },
     "metadata": {},
     "output_type": "display_data"
    },
    {
     "name": "stdout",
     "output_type": "stream",
     "text": [
      "\n"
     ]
    },
    {
     "data": {
      "text/html": [
       "<div>\n",
       "<style scoped>\n",
       "    .dataframe tbody tr th:only-of-type {\n",
       "        vertical-align: middle;\n",
       "    }\n",
       "\n",
       "    .dataframe tbody tr th {\n",
       "        vertical-align: top;\n",
       "    }\n",
       "\n",
       "    .dataframe thead th {\n",
       "        text-align: right;\n",
       "    }\n",
       "</style>\n",
       "<table border=\"1\" class=\"dataframe\">\n",
       "  <thead>\n",
       "    <tr style=\"text-align: right;\">\n",
       "      <th></th>\n",
       "      <th>paper_id</th>\n",
       "      <th>title</th>\n",
       "      <th>authors</th>\n",
       "      <th>affiliations</th>\n",
       "      <th>abstract</th>\n",
       "      <th>text</th>\n",
       "      <th>bibliography</th>\n",
       "      <th>raw_authors</th>\n",
       "      <th>raw_bibliography</th>\n",
       "    </tr>\n",
       "  </thead>\n",
       "  <tbody>\n",
       "    <tr>\n",
       "      <th>0</th>\n",
       "      <td>3f95cd9324e4e68dfac149200521e09981091feb</td>\n",
       "      <td>Understanding the canine intestinal microbiota...</td>\n",
       "      <td>Silke Schmitz, Jan Suchodolski</td>\n",
       "      <td>Silke Schmitz (Justus-Liebig University, Giess...</td>\n",
       "      <td>Abstract\\n\\nInterest in the composition of the...</td>\n",
       "      <td>Introduction\\n\\nMicroorganisms are found abund...</td>\n",
       "      <td>Efficacy of Saccharomyces boulardii as a probi...</td>\n",
       "      <td>[{'first': 'Silke', 'middle': [], 'last': 'Sch...</td>\n",
       "      <td>{'BIBREF0': {'ref_id': 'b0', 'title': 'Efficac...</td>\n",
       "    </tr>\n",
       "    <tr>\n",
       "      <th>1</th>\n",
       "      <td>65d508add328dceec3427a9bc54cff552b6a2271</td>\n",
       "      <td>Evidence based risk assessment tool for tracin...</td>\n",
       "      <td>Oliver ; Mohr, Oliver Mohr, Julia Hermes, Susa...</td>\n",
       "      <td>Oliver ; Mohr, Oliver Mohr, Julia Hermes, Susa...</td>\n",
       "      <td></td>\n",
       "      <td>\\n\\nTracing persons who have been in contact w...</td>\n",
       "      <td>Australasian Society for HIV Medicine. Austral...</td>\n",
       "      <td>[{'first': 'Oliver', 'middle': [';'], 'last': ...</td>\n",
       "      <td>{'BIBREF0': {'ref_id': 'b0', 'title': 'Austral...</td>\n",
       "    </tr>\n",
       "    <tr>\n",
       "      <th>2</th>\n",
       "      <td>2176706829fb93fa471a706137b138e8766b4f32</td>\n",
       "      <td>GRAFT-VERSUS-HOST DISEASE IN CYCLOSPORIN A-TRE...</td>\n",
       "      <td>Arnold Glazier, Peter J Tutschka, Evan R Farme...</td>\n",
       "      <td>Arnold Glazier (The Johns Hopkins University S...</td>\n",
       "      <td>Abstract\\n\\nCyclosporin A (CsA) ~ is a potent ...</td>\n",
       "      <td>\\n\\nused for the histological documentation of...</td>\n",
       "      <td>Biological effects of cyclosporin A: a new ant...</td>\n",
       "      <td>[{'first': 'Arnold', 'middle': [], 'last': 'Gl...</td>\n",
       "      <td>{'BIBREF0': {'ref_id': 'b0', 'title': 'Biologi...</td>\n",
       "    </tr>\n",
       "    <tr>\n",
       "      <th>3</th>\n",
       "      <td>35ec885b13ad96752433a085e543db81dd1d80df</td>\n",
       "      <td>Emerging Microbes and Infections (2012) 1, e35</td>\n",
       "      <td>Patrick Cy Woo, Susanna Kp Lau, Kenneth Sm Li,...</td>\n",
       "      <td>Patrick Cy Woo (The University of Hong Kong, H...</td>\n",
       "      <td></td>\n",
       "      <td>\\n\\nhe recent outbreak of severe respiratory i...</td>\n",
       "      <td>Isolation of a novel coronavirus from a man wi...</td>\n",
       "      <td>[{'first': 'Patrick', 'middle': ['Cy'], 'last'...</td>\n",
       "      <td>{'BIBREF0': {'ref_id': 'b0', 'title': 'Isolati...</td>\n",
       "    </tr>\n",
       "    <tr>\n",
       "      <th>4</th>\n",
       "      <td>066178ded1d6d540be366e6468bc01e78e605a81</td>\n",
       "      <td>NOTE Repeated avian infectious bronchitis viru...</td>\n",
       "      <td>Atsushi Kato, Shiori Oguro, Yukino Kurihara, H...</td>\n",
       "      <td>Atsushi Kato (Nippon Institute for Biological ...</td>\n",
       "      <td>Abstract\\n\\nGenotyping of avian infectious bro...</td>\n",
       "      <td>\\n\\nAvian infectious bronchitis virus (IBV) is...</td>\n",
       "      <td>Pathogenesis and Diagnostic Approaches of Avia...</td>\n",
       "      <td>[{'first': 'Atsushi', 'middle': [], 'last': 'K...</td>\n",
       "      <td>{'BIBREF0': {'ref_id': 'b0', 'title': 'Pathoge...</td>\n",
       "    </tr>\n",
       "  </tbody>\n",
       "</table>\n",
       "</div>"
      ],
      "text/plain": [
       "                                   paper_id  \\\n",
       "0  3f95cd9324e4e68dfac149200521e09981091feb   \n",
       "1  65d508add328dceec3427a9bc54cff552b6a2271   \n",
       "2  2176706829fb93fa471a706137b138e8766b4f32   \n",
       "3  35ec885b13ad96752433a085e543db81dd1d80df   \n",
       "4  066178ded1d6d540be366e6468bc01e78e605a81   \n",
       "\n",
       "                                               title  \\\n",
       "0  Understanding the canine intestinal microbiota...   \n",
       "1  Evidence based risk assessment tool for tracin...   \n",
       "2  GRAFT-VERSUS-HOST DISEASE IN CYCLOSPORIN A-TRE...   \n",
       "3     Emerging Microbes and Infections (2012) 1, e35   \n",
       "4  NOTE Repeated avian infectious bronchitis viru...   \n",
       "\n",
       "                                             authors  \\\n",
       "0                     Silke Schmitz, Jan Suchodolski   \n",
       "1  Oliver ; Mohr, Oliver Mohr, Julia Hermes, Susa...   \n",
       "2  Arnold Glazier, Peter J Tutschka, Evan R Farme...   \n",
       "3  Patrick Cy Woo, Susanna Kp Lau, Kenneth Sm Li,...   \n",
       "4  Atsushi Kato, Shiori Oguro, Yukino Kurihara, H...   \n",
       "\n",
       "                                        affiliations  \\\n",
       "0  Silke Schmitz (Justus-Liebig University, Giess...   \n",
       "1  Oliver ; Mohr, Oliver Mohr, Julia Hermes, Susa...   \n",
       "2  Arnold Glazier (The Johns Hopkins University S...   \n",
       "3  Patrick Cy Woo (The University of Hong Kong, H...   \n",
       "4  Atsushi Kato (Nippon Institute for Biological ...   \n",
       "\n",
       "                                            abstract  \\\n",
       "0  Abstract\\n\\nInterest in the composition of the...   \n",
       "1                                                      \n",
       "2  Abstract\\n\\nCyclosporin A (CsA) ~ is a potent ...   \n",
       "3                                                      \n",
       "4  Abstract\\n\\nGenotyping of avian infectious bro...   \n",
       "\n",
       "                                                text  \\\n",
       "0  Introduction\\n\\nMicroorganisms are found abund...   \n",
       "1  \\n\\nTracing persons who have been in contact w...   \n",
       "2  \\n\\nused for the histological documentation of...   \n",
       "3  \\n\\nhe recent outbreak of severe respiratory i...   \n",
       "4  \\n\\nAvian infectious bronchitis virus (IBV) is...   \n",
       "\n",
       "                                        bibliography  \\\n",
       "0  Efficacy of Saccharomyces boulardii as a probi...   \n",
       "1  Australasian Society for HIV Medicine. Austral...   \n",
       "2  Biological effects of cyclosporin A: a new ant...   \n",
       "3  Isolation of a novel coronavirus from a man wi...   \n",
       "4  Pathogenesis and Diagnostic Approaches of Avia...   \n",
       "\n",
       "                                         raw_authors  \\\n",
       "0  [{'first': 'Silke', 'middle': [], 'last': 'Sch...   \n",
       "1  [{'first': 'Oliver', 'middle': [';'], 'last': ...   \n",
       "2  [{'first': 'Arnold', 'middle': [], 'last': 'Gl...   \n",
       "3  [{'first': 'Patrick', 'middle': ['Cy'], 'last'...   \n",
       "4  [{'first': 'Atsushi', 'middle': [], 'last': 'K...   \n",
       "\n",
       "                                    raw_bibliography  \n",
       "0  {'BIBREF0': {'ref_id': 'b0', 'title': 'Efficac...  \n",
       "1  {'BIBREF0': {'ref_id': 'b0', 'title': 'Austral...  \n",
       "2  {'BIBREF0': {'ref_id': 'b0', 'title': 'Biologi...  \n",
       "3  {'BIBREF0': {'ref_id': 'b0', 'title': 'Isolati...  \n",
       "4  {'BIBREF0': {'ref_id': 'b0', 'title': 'Pathoge...  "
      ]
     },
     "execution_count": 32,
     "metadata": {},
     "output_type": "execute_result"
    }
   ],
   "source": [
    "noncomm_dir = 'CORD-19-research-challenge/2020-03-13/noncomm_use_subset/noncomm_use_subset/'\n",
    "noncomm_files = load_files(noncomm_dir)\n",
    "noncomm_df = generate_clean_df(noncomm_files)\n",
    "noncomm_df.head()"
   ]
  },
  {
   "cell_type": "code",
   "execution_count": 34,
   "metadata": {},
   "outputs": [],
   "source": [
    "noncomm_df.to_csv('cleaned/clean_noncomm_use.csv', index=False)"
   ]
  },
  {
   "cell_type": "code",
   "execution_count": null,
   "metadata": {},
   "outputs": [],
   "source": []
  }
 ],
 "metadata": {
  "kernelspec": {
   "display_name": "Python 3",
   "language": "python",
   "name": "python3"
  },
  "language_info": {
   "codemirror_mode": {
    "name": "ipython",
    "version": 3
   },
   "file_extension": ".py",
   "mimetype": "text/x-python",
   "name": "python",
   "nbconvert_exporter": "python",
   "pygments_lexer": "ipython3",
   "version": "3.7.6"
  }
 },
 "nbformat": 4,
 "nbformat_minor": 4
}
